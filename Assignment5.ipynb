{
  "nbformat": 4,
  "nbformat_minor": 0,
  "metadata": {
    "colab": {
      "provenance": [],
      "authorship_tag": "ABX9TyPNQBFhEFF0lXAdeAtZiH+X",
      "include_colab_link": true
    },
    "kernelspec": {
      "name": "python3",
      "display_name": "Python 3"
    },
    "language_info": {
      "name": "python"
    }
  },
  "cells": [
    {
      "cell_type": "markdown",
      "metadata": {
        "id": "view-in-github",
        "colab_type": "text"
      },
      "source": [
        "<a href=\"https://colab.research.google.com/github/SXE74810/Assignment5/blob/main/Assignment5.ipynb\" target=\"_parent\"><img src=\"https://colab.research.google.com/assets/colab-badge.svg\" alt=\"Open In Colab\"/></a>"
      ]
    },
    {
      "cell_type": "code",
      "execution_count": 1,
      "metadata": {
        "id": "59GIBWNAp_vt",
        "colab": {
          "base_uri": "https://localhost:8080/"
        },
        "outputId": "f1f73d7b-f2af-4bda-c300-de3f65d6a46d"
      },
      "outputs": [
        {
          "output_type": "stream",
          "name": "stdout",
          "text": [
            "Mounted at /content/gdrive\n"
          ]
        }
      ],
      "source": [
        "from google.colab import drive\n",
        "drive.mount('/content/gdrive')"
      ]
    },
    {
      "cell_type": "code",
      "source": [
        "from sklearn.decomposition import PCA\n",
        "from sklearn.preprocessing import StandardScaler\n",
        "from sklearn.model_selection import train_test_split\n",
        "import pandas as pd\n",
        "from sklearn.linear_model import LogisticRegression\n",
        "from sklearn.metrics import accuracy_score\n",
        "import matplotlib.pyplot as plt\n",
        "import warnings\n",
        "warnings.filterwarnings('ignore')\n",
        "from sklearn.svm import SVC, LinearSVC\n",
        "import seaborn as sns\n",
        "sns.set(style=\"white\", color_codes=True)\n",
        "import warnings\n",
        "warnings.filterwarnings(\"ignore\")\n",
        "\n",
        "df= pd.read_csv(\"/content/gdrive/MyDrive/datasets/CC GENERAL.csv\")\n",
        "\n",
        "df.head()\n",
        "df['TENURE'].value_counts()\n",
        "x = df.iloc[:,[1,2,3,4]]\n",
        "y = df.iloc[:,-1]\n",
        "\n",
        "from sklearn import preprocessing\n",
        "le = preprocessing.LabelEncoder()\n",
        "df['CUST_ID'] = le.fit_transform(df.CUST_ID.values)\n",
        "\n",
        "pca2 = PCA(n_components=2)\n",
        "principalComponents = pca2.fit_transform(x)\n",
        "\n",
        "principalDf = pd.DataFrame(data = principalComponents, columns = ['principal component 1', 'principal component 2'])\n",
        "\n",
        "finalDf = pd.concat([principalDf, df[['TENURE']]], axis = 1)\n",
        "finalDf.head()\n",
        "\n",
        "from sklearn.cluster import KMeans\n",
        "nclusters = 2 # this is the k in kmeans\n",
        "km = KMeans(n_clusters=nclusters)\n",
        "km.fit(x)\n",
        "\n",
        "# predict the cluster for each data point\n",
        "y_cluster_kmeans = km.predict(x)\n",
        "from sklearn import metrics\n",
        "score = metrics.silhouette_score(x, y_cluster_kmeans)\n",
        "print(score)\n",
        "scaler = StandardScaler()\n",
        "X_Scale = scaler.fit_transform(x)\n",
        "\n",
        "pca2 = PCA(n_components=2)\n",
        "principalComponents = pca2.fit_transform(X_Scale)\n",
        "\n",
        "principalDf1 = pd.DataFrame(data = principalComponents, columns = ['principal component 1', 'principal component 2'])\n",
        "\n",
        "finalDf1 = pd.concat([principalDf1, df[['TENURE']]], axis = 1)\n",
        "print(finalDf1.head())\n",
        "\n",
        "from sklearn.cluster import KMeans\n",
        "nclusters = 2 # this is the k in kmeans\n",
        "km = KMeans(n_clusters=nclusters)\n",
        "km.fit(X_Scale)\n",
        "\n",
        "# predict the cluster for each data point\n",
        "y_cluster_kmeans = km.predict(X_Scale)\n",
        "from sklearn import metrics\n",
        "score = metrics.silhouette_score(X_Scale, y_cluster_kmeans)\n",
        "print(score)"
      ],
      "metadata": {
        "colab": {
          "base_uri": "https://localhost:8080/"
        },
        "id": "KawFn3pmQ45G",
        "outputId": "10a7bbbc-f028-495c-bb6d-ac4ee5e40e80"
      },
      "execution_count": 2,
      "outputs": [
        {
          "output_type": "stream",
          "name": "stdout",
          "text": [
            "0.7526240640619958\n",
            "   principal component 1  principal component 2  TENURE\n",
            "0              -0.786173               0.422114      12\n",
            "1              -0.278329              -0.803393      12\n",
            "2               0.255916              -0.630364      12\n",
            "3               0.277478               0.873840      12\n",
            "4              -0.510060              -0.341918      12\n",
            "0.669864455390754\n"
          ]
        }
      ]
    },
    {
      "cell_type": "code",
      "source": [
        "from sklearn.decomposition import PCA\n",
        "from sklearn.preprocessing import StandardScaler\n",
        "from sklearn.model_selection import train_test_split\n",
        "import pandas as pd\n",
        "from sklearn.linear_model import LogisticRegression\n",
        "from sklearn.metrics import accuracy_score\n",
        "import matplotlib.pyplot as plt\n",
        "import warnings\n",
        "warnings.filterwarnings('ignore')\n",
        "from sklearn.svm import SVC, LinearSVC\n",
        "df= pd.read_csv(\"/content/gdrive/MyDrive/datasets/pd_speech_features.csv\")\n",
        "df.head()\n",
        "df.shape\n",
        "df['class'].value_counts()\n",
        "X = df.drop('class',axis=1).values\n",
        "y = df['class'].values\n",
        "scaler = StandardScaler()\n",
        "X_Scale = scaler.fit_transform(X)\n",
        "pca2 = PCA(n_components=3)\n",
        "principalComponents = pca2.fit_transform(X_Scale)\n",
        "principalDf = pd.DataFrame(data = principalComponents, columns = ['principal component 1', 'principal component 2', 'principal component 3'])\n",
        "finalDf = pd.concat([principalDf, df[['class']]], axis = 1)\n",
        "finalDf.head()\n",
        "X_train, X_test, y_train, y_test = train_test_split(X_Scale,y, test_size=0.3,random_state=0)\n",
        "\n",
        "svc = SVC(max_iter=1000)\n",
        "\n",
        "svc.fit(X_train, y_train)\n",
        "\n",
        "Y_pred = svc.predict(X_test)\n",
        "\n",
        "acc_svc = round(svc.score(X_train, y_train) * 100, 2)\n",
        "\n",
        "print(\"svm accuracy =\", acc_svc)"
      ],
      "metadata": {
        "colab": {
          "base_uri": "https://localhost:8080/"
        },
        "id": "cp3Dx-2aSMfn",
        "outputId": "f54dc3ca-d923-4c07-9a57-7d9206e92a03"
      },
      "execution_count": 3,
      "outputs": [
        {
          "output_type": "stream",
          "name": "stdout",
          "text": [
            "svm accuracy = 91.68\n"
          ]
        }
      ]
    },
    {
      "cell_type": "code",
      "source": [
        "import pandas as pd\n",
        "import numpy as np\n",
        "import seaborn as sns\n",
        "from matplotlib import pyplot as plt\n",
        "\n",
        "df = pd.read_csv(\"/content/gdrive/MyDrive/datasets/Iris.csv\")\n",
        "df.head()\n",
        "\n",
        "from sklearn.preprocessing import StandardScaler\n",
        "stdsc = StandardScaler()\n",
        "X_train_std = stdsc.fit_transform(df.iloc[:,range(0,4)].values)\n",
        "from sklearn.preprocessing import LabelEncoder\n",
        "class_le = LabelEncoder()\n",
        "y = class_le.fit_transform(df['Species'].values)\n",
        "from sklearn.discriminant_analysis import LinearDiscriminantAnalysis\n",
        "lda = LinearDiscriminantAnalysis(n_components=2)\n",
        "X_train_lda = lda.fit_transform(X_train_std,y)\n",
        "data=pd.DataFrame(X_train_lda)\n",
        "data['class']=y\n",
        "data.columns=[\"LD1\",\"LD2\",\"class\"]\n",
        "data.head()\n",
        "markers = ['s', 'x', 'o']\n",
        "colors = ['r', 'b', 'g']\n",
        "sns.lmplot(x=\"LD1\", y=\"LD2\", data=data, hue='class', markers=markers, fit_reg=False, legend=False)\n",
        "plt.legend(loc='upper center')\n",
        "plt.show()"
      ],
      "metadata": {
        "colab": {
          "base_uri": "https://localhost:8080/",
          "height": 500
        },
        "id": "W1VGop8_SWq-",
        "outputId": "49b98beb-7be6-4879-8f38-f70790f94418"
      },
      "execution_count": 4,
      "outputs": [
        {
          "output_type": "display_data",
          "data": {
            "text/plain": [
              "<Figure size 500x500 with 1 Axes>"
            ],
            "image/png": "[encoded data removed]"
          },
          "metadata": {}
        }
      ]
    }
  ]
}